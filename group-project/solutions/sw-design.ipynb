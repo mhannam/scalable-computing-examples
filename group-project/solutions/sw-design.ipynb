{
 "cells": [
  {
   "cell_type": "code",
   "execution_count": 3,
   "metadata": {},
   "outputs": [
    {
     "data": {
      "text/plain": [
       "function"
      ]
     },
     "execution_count": 3,
     "metadata": {},
     "output_type": "execute_result"
    }
   ],
   "source": [
    "def double(x):\n",
    "    return x*2\n",
    "\n",
    "double(2)\n",
    "\n",
    "twotimes = double\n",
    "type(twotimes)"
   ]
  },
  {
   "cell_type": "code",
   "execution_count": 5,
   "metadata": {},
   "outputs": [
    {
     "data": {
      "text/plain": [
       "[4, 6, 10]"
      ]
     },
     "execution_count": 5,
     "metadata": {},
     "output_type": "execute_result"
    }
   ],
   "source": [
    "list(map(twotimes, [2,3,5]))"
   ]
  },
  {
   "cell_type": "code",
   "execution_count": 6,
   "metadata": {},
   "outputs": [
    {
     "name": "stdout",
     "output_type": "stream",
     "text": [
      "Ran the wrapper\n",
      "ran some function\n",
      "finished wrapper\n"
     ]
    }
   ],
   "source": [
    "def some_function():\n",
    "    print('ran some function')\n",
    "\n",
    "def wrapper(function_to_run):\n",
    "    print(\"Ran the wrapper\")\n",
    "    function_to_run()\n",
    "    print(\"finished wrapper\")\n",
    "\n",
    "wrapper(some_function)"
   ]
  },
  {
   "attachments": {},
   "cell_type": "markdown",
   "metadata": {},
   "source": [
    "## Scoping\n",
    "functions have their own environment"
   ]
  },
  {
   "cell_type": "code",
   "execution_count": 1,
   "metadata": {},
   "outputs": [
    {
     "name": "stdout",
     "output_type": "stream",
     "text": [
      "5\n"
     ]
    }
   ],
   "source": [
    "def do_task():\n",
    "    x = 10\n",
    "x = 5\n",
    "do_task()\n",
    "print(x)"
   ]
  },
  {
   "attachments": {},
   "cell_type": "markdown",
   "metadata": {},
   "source": [
    "but what if we make 'x' in the function a global variable? Hint, don't do it, especially for parallel processing"
   ]
  },
  {
   "cell_type": "code",
   "execution_count": 2,
   "metadata": {},
   "outputs": [
    {
     "name": "stdout",
     "output_type": "stream",
     "text": [
      "10\n"
     ]
    }
   ],
   "source": [
    "def do_task():\n",
    "    global x\n",
    "    x = 10\n",
    "x = 5\n",
    "do_task()\n",
    "print(x)"
   ]
  },
  {
   "attachments": {},
   "cell_type": "markdown",
   "metadata": {},
   "source": [
    "In Python, variables defined outside the function are stored in the parent namespace. If a function needs a variable, Python first searches the local namespace, then each of the parent namespaces, and then the global namespace for that variable."
   ]
  },
  {
   "cell_type": "code",
   "execution_count": 3,
   "metadata": {},
   "outputs": [
    {
     "data": {
      "text/plain": [
       "18"
      ]
     },
     "execution_count": 3,
     "metadata": {},
     "output_type": "execute_result"
    }
   ],
   "source": [
    "a = 3\n",
    "def do_stuff(b):\n",
    "    return a*b\n",
    "\n",
    "do_stuff(6)"
   ]
  },
  {
   "attachments": {},
   "cell_type": "markdown",
   "metadata": {},
   "source": [
    "## Pure Functions\n",
    "A pure function doesn't take any variables from another namespace. Using files as an input to a function makes for an impure function. Pure functions are preferrable, especially in parallel programming."
   ]
  },
  {
   "attachments": {},
   "cell_type": "markdown",
   "metadata": {},
   "source": [
    "## Locks"
   ]
  },
  {
   "cell_type": "code",
   "execution_count": 11,
   "metadata": {},
   "outputs": [
    {
     "name": "stdout",
     "output_type": "stream",
     "text": [
      "0 hello\n",
      "0 world!\n",
      "2 hello\n",
      "2 world!\n",
      "1 hello\n",
      "1 world!\n"
     ]
    }
   ],
   "source": [
    "from concurrent.futures import ProcessPoolExecutor\n",
    "import time\n",
    "import multiprocessing\n",
    "def hello(i, lock):\n",
    "    with lock:\n",
    "        print(i, 'hello')\n",
    "        print(i, 'world!')\n",
    "\n",
    "lock = multiprocessing.Manager().Lock()\n",
    "executor = ProcessPoolExecutor()\n",
    "futures  = [executor.submit(hello, i, lock) for i in range(3)]\n",
    "for future in futures:\n",
    "    future.result()"
   ]
  }
 ],
 "metadata": {
  "kernelspec": {
   "display_name": "scomp",
   "language": "python",
   "name": "python3"
  },
  "language_info": {
   "codemirror_mode": {
    "name": "ipython",
    "version": 3
   },
   "file_extension": ".py",
   "mimetype": "text/x-python",
   "name": "python",
   "nbconvert_exporter": "python",
   "pygments_lexer": "ipython3",
   "version": "3.9.16"
  },
  "orig_nbformat": 4
 },
 "nbformat": 4,
 "nbformat_minor": 2
}
